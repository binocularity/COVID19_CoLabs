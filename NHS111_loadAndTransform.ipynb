{
  "nbformat": 4,
  "nbformat_minor": 0,
  "metadata": {
    "colab": {
      "name": "NHS111_loadAndTransform.ipynb",
      "provenance": [],
      "private_outputs": true,
      "collapsed_sections": [],
      "authorship_tag": "ABX9TyMIWfmMcu5Rop/Fd1IgPmLi",
      "include_colab_link": true
    },
    "kernelspec": {
      "name": "python3",
      "display_name": "Python 3"
    }
  },
  "cells": [
    {
      "cell_type": "markdown",
      "metadata": {
        "id": "view-in-github",
        "colab_type": "text"
      },
      "source": [
        "<a href=\"https://colab.research.google.com/github/binocularity/COVID19_CoLabs/blob/master/NHS111_loadAndTransform.ipynb\" target=\"_parent\"><img src=\"https://colab.research.google.com/assets/colab-badge.svg\" alt=\"Open In Colab\"/></a>"
      ]
    },
    {
      "cell_type": "markdown",
      "metadata": {
        "id": "iiH8gaO0rQys",
        "colab_type": "text"
      },
      "source": [
        "# Preprocess NHS data for 111/999/111 online triages\n",
        "\n",
        "##### Load in NHS triage data for processing from a fixed file.\n",
        "##### Triage data is number of pathway outcomes that resulted in suspected COVID19"
      ]
    },
    {
      "cell_type": "code",
      "metadata": {
        "id": "Ltnyu_bsrIi4",
        "colab_type": "code",
        "colab": {}
      },
      "source": [
        "import pandas as pd\n",
        "\n",
        "url = \"https://raw.githubusercontent.com/binocularity/COVID19_CoLabs/master/NHS%20Pathways%20Covid-19%20data%202020-05-19.csv\"\n",
        "\n",
        "NHSdf = pd.read_csv(url)\n",
        "\n",
        "print( NHSdf.head() )\n"
      ],
      "execution_count": 0,
      "outputs": []
    },
    {
      "cell_type": "code",
      "metadata": {
        "id": "9r3CsjQT4KBW",
        "colab_type": "code",
        "colab": {}
      },
      "source": [
        "NHS_edit_df = NHSdf.drop( columns=[\"SiteType\",\"Sex\",\"AgeBand\"] )\n",
        "\n",
        "print( NHS_edit_df.head() )\n"
      ],
      "execution_count": 0,
      "outputs": []
    }
  ]
}