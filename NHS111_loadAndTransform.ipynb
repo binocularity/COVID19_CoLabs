{
  "nbformat": 4,
  "nbformat_minor": 0,
  "metadata": {
    "colab": {
      "name": "NHS111_loadAndTransform.ipynb",
      "provenance": [],
      "private_outputs": true,
      "authorship_tag": "ABX9TyNBcgHmbscA5TPWlh8ot3+C",
      "include_colab_link": true
    },
    "kernelspec": {
      "name": "python3",
      "display_name": "Python 3"
    }
  },
  "cells": [
    {
      "cell_type": "markdown",
      "metadata": {
        "id": "view-in-github",
        "colab_type": "text"
      },
      "source": [
        "<a href=\"https://colab.research.google.com/github/binocularity/COVID19_CoLabs/blob/master/NHS111_loadAndTransform.ipynb\" target=\"_parent\"><img src=\"https://colab.research.google.com/assets/colab-badge.svg\" alt=\"Open In Colab\"/></a>"
      ]
    },
    {
      "cell_type": "markdown",
      "metadata": {
        "id": "iiH8gaO0rQys",
        "colab_type": "text"
      },
      "source": [
        "# Preprocess NHS data for 111/999/111 online triages"
      ]
    },
    {
      "cell_type": "code",
      "metadata": {
        "id": "Ltnyu_bsrIi4",
        "colab_type": "code",
        "colab": {}
      },
      "source": [
        ""
      ],
      "execution_count": 0,
      "outputs": []
    }
  ]
}